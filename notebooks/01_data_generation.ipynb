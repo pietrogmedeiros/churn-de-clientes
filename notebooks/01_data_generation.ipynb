{
 "cells": [
  {
   "cell_type": "code",
   "execution_count": 2,
   "id": "81a6b897",
   "metadata": {},
   "outputs": [
    {
     "name": "stdout",
     "output_type": "stream",
     "text": [
      "Arquivo 'customers.csv' gerado com sucesso!\n",
      "  CustomerID  TenureMonths    ContractType  MonthlyCharges  SupportTickets  \\\n",
      "0  CUST-0000            43        One year      102.791679               3   \n",
      "1  CUST-0001            66  Month-to-month       86.388938               0   \n",
      "2  CUST-0002             3  Month-to-month      108.995329               6   \n",
      "3  CUST-0003            45        One year       51.087282               5   \n",
      "4  CUST-0004            17        One year       64.689449               0   \n",
      "\n",
      "   FeatureUsageScore  TotalCharges  Churn  \n",
      "0                 40   4852.709454      0  \n",
      "1                 55   6031.000057      0  \n",
      "2                 63    304.863230      0  \n",
      "3                 29   1849.294654      0  \n",
      "4                 88   1008.802445      0  \n",
      "\n",
      "Distribuição de Churn:\n",
      "Churn\n",
      "0    0.7908\n",
      "1    0.2092\n",
      "Name: proportion, dtype: float64\n"
     ]
    }
   ],
   "source": [
    "import pandas as pd\n",
    "import numpy as np\n",
    "\n",
    "# Número de amostras\n",
    "num_samples = 5000\n",
    "\n",
    "# --- CÓDIGO CORRIGIDO ---\n",
    "\n",
    "# 1. Gerar dados com colunas independentes primeiro\n",
    "data = {\n",
    "    'CustomerID': [f'CUST-{i:04d}' for i in range(num_samples)],\n",
    "    'TenureMonths': np.random.randint(1, 72, size=num_samples),\n",
    "    'ContractType': np.random.choice(['Month-to-month', 'One year', 'Two year'], size=num_samples, p=[0.6, 0.3, 0.1]),\n",
    "    'MonthlyCharges': np.random.normal(75, 25, size=num_samples),\n",
    "    'SupportTickets': np.random.randint(0, 10, size=num_samples),\n",
    "    'FeatureUsageScore': np.random.randint(20, 100, size=num_samples)\n",
    "}\n",
    "df = pd.DataFrame(data)\n",
    "\n",
    "# 2. Agora, criar as colunas calculadas e aplicar os limites\n",
    "df['TotalCharges'] = df['TenureMonths'] * df['MonthlyCharges'] * np.random.normal(1, 0.1, size=num_samples)\n",
    "df['MonthlyCharges'] = df['MonthlyCharges'].clip(lower=20)\n",
    "df['TotalCharges'] = df['TotalCharges'].clip(lower=20)\n",
    "\n",
    "# 3. Criar a variável alvo (Churn) com base em regras lógicas\n",
    "churn_probability = (\n",
    "    -0.1 * (df['TenureMonths'] / 72) +\n",
    "    0.3 * (df['MonthlyCharges'] / df['MonthlyCharges'].max()) +\n",
    "    -0.3 * (df['ContractType'].map({'Month-to-month': 0.8, 'One year': 0.4, 'Two year': 0.1})) +\n",
    "    0.2 * (df['SupportTickets'] / 10) +\n",
    "    -0.2 * (df['FeatureUsageScore'] / 100)\n",
    ")\n",
    "churn_probability = (churn_probability - churn_probability.min()) / (churn_probability.max() - churn_probability.min())\n",
    "df['Churn'] = (churn_probability > np.random.normal(0.6, 0.1, size=num_samples)).astype(int)\n",
    "\n",
    "# 4. Salvar no CSV\n",
    "# Verifique se a pasta 'data' existe. Se não, crie-a.\n",
    "import os\n",
    "os.makedirs('../data', exist_ok=True)\n",
    "df.to_csv('../data/customers.csv', index=False)\n",
    "\n",
    "# 5. Imprimir confirmação e resultados\n",
    "print(\"Arquivo 'customers.csv' gerado com sucesso!\")\n",
    "print(df.head())\n",
    "print(f\"\\nDistribuição de Churn:\\n{df['Churn'].value_counts(normalize=True)}\")"
   ]
  }
 ],
 "metadata": {
  "kernelspec": {
   "display_name": "base",
   "language": "python",
   "name": "python3"
  },
  "language_info": {
   "codemirror_mode": {
    "name": "ipython",
    "version": 3
   },
   "file_extension": ".py",
   "mimetype": "text/x-python",
   "name": "python",
   "nbconvert_exporter": "python",
   "pygments_lexer": "ipython3",
   "version": "3.13.5"
  }
 },
 "nbformat": 4,
 "nbformat_minor": 5
}
