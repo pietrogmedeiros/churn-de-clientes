{
 "cells": [
  {
   "cell_type": "code",
   "execution_count": 1,
   "id": "b8344e34",
   "metadata": {},
   "outputs": [
    {
     "name": "stdout",
     "output_type": "stream",
     "text": [
      "<class 'pandas.core.frame.DataFrame'>\n",
      "RangeIndex: 5000 entries, 0 to 4999\n",
      "Data columns (total 8 columns):\n",
      " #   Column             Non-Null Count  Dtype  \n",
      "---  ------             --------------  -----  \n",
      " 0   CustomerID         5000 non-null   object \n",
      " 1   TenureMonths       5000 non-null   int64  \n",
      " 2   ContractType       5000 non-null   object \n",
      " 3   MonthlyCharges     5000 non-null   float64\n",
      " 4   SupportTickets     5000 non-null   int64  \n",
      " 5   FeatureUsageScore  5000 non-null   int64  \n",
      " 6   TotalCharges       5000 non-null   float64\n",
      " 7   Churn              5000 non-null   int64  \n",
      "dtypes: float64(2), int64(4), object(2)\n",
      "memory usage: 312.6+ KB\n"
     ]
    },
    {
     "data": {
      "text/html": [
       "<div>\n",
       "<style scoped>\n",
       "    .dataframe tbody tr th:only-of-type {\n",
       "        vertical-align: middle;\n",
       "    }\n",
       "\n",
       "    .dataframe tbody tr th {\n",
       "        vertical-align: top;\n",
       "    }\n",
       "\n",
       "    .dataframe thead th {\n",
       "        text-align: right;\n",
       "    }\n",
       "</style>\n",
       "<table border=\"1\" class=\"dataframe\">\n",
       "  <thead>\n",
       "    <tr style=\"text-align: right;\">\n",
       "      <th></th>\n",
       "      <th>CustomerID</th>\n",
       "      <th>TenureMonths</th>\n",
       "      <th>ContractType</th>\n",
       "      <th>MonthlyCharges</th>\n",
       "      <th>SupportTickets</th>\n",
       "      <th>FeatureUsageScore</th>\n",
       "      <th>TotalCharges</th>\n",
       "      <th>Churn</th>\n",
       "    </tr>\n",
       "  </thead>\n",
       "  <tbody>\n",
       "    <tr>\n",
       "      <th>0</th>\n",
       "      <td>CUST-0000</td>\n",
       "      <td>43</td>\n",
       "      <td>One year</td>\n",
       "      <td>102.791679</td>\n",
       "      <td>3</td>\n",
       "      <td>40</td>\n",
       "      <td>4852.709454</td>\n",
       "      <td>0</td>\n",
       "    </tr>\n",
       "    <tr>\n",
       "      <th>1</th>\n",
       "      <td>CUST-0001</td>\n",
       "      <td>66</td>\n",
       "      <td>Month-to-month</td>\n",
       "      <td>86.388938</td>\n",
       "      <td>0</td>\n",
       "      <td>55</td>\n",
       "      <td>6031.000057</td>\n",
       "      <td>0</td>\n",
       "    </tr>\n",
       "    <tr>\n",
       "      <th>2</th>\n",
       "      <td>CUST-0002</td>\n",
       "      <td>3</td>\n",
       "      <td>Month-to-month</td>\n",
       "      <td>108.995329</td>\n",
       "      <td>6</td>\n",
       "      <td>63</td>\n",
       "      <td>304.863230</td>\n",
       "      <td>0</td>\n",
       "    </tr>\n",
       "    <tr>\n",
       "      <th>3</th>\n",
       "      <td>CUST-0003</td>\n",
       "      <td>45</td>\n",
       "      <td>One year</td>\n",
       "      <td>51.087282</td>\n",
       "      <td>5</td>\n",
       "      <td>29</td>\n",
       "      <td>1849.294654</td>\n",
       "      <td>0</td>\n",
       "    </tr>\n",
       "    <tr>\n",
       "      <th>4</th>\n",
       "      <td>CUST-0004</td>\n",
       "      <td>17</td>\n",
       "      <td>One year</td>\n",
       "      <td>64.689449</td>\n",
       "      <td>0</td>\n",
       "      <td>88</td>\n",
       "      <td>1008.802445</td>\n",
       "      <td>0</td>\n",
       "    </tr>\n",
       "  </tbody>\n",
       "</table>\n",
       "</div>"
      ],
      "text/plain": [
       "  CustomerID  TenureMonths    ContractType  MonthlyCharges  SupportTickets  \\\n",
       "0  CUST-0000            43        One year      102.791679               3   \n",
       "1  CUST-0001            66  Month-to-month       86.388938               0   \n",
       "2  CUST-0002             3  Month-to-month      108.995329               6   \n",
       "3  CUST-0003            45        One year       51.087282               5   \n",
       "4  CUST-0004            17        One year       64.689449               0   \n",
       "\n",
       "   FeatureUsageScore  TotalCharges  Churn  \n",
       "0                 40   4852.709454      0  \n",
       "1                 55   6031.000057      0  \n",
       "2                 63    304.863230      0  \n",
       "3                 29   1849.294654      0  \n",
       "4                 88   1008.802445      0  "
      ]
     },
     "execution_count": 1,
     "metadata": {},
     "output_type": "execute_result"
    }
   ],
   "source": [
    "import pandas as pd\n",
    "import numpy as np\n",
    "from sklearn.model_selection import train_test_split\n",
    "from sklearn.preprocessing import StandardScaler, OneHotEncoder\n",
    "from sklearn.compose import ColumnTransformer\n",
    "from sklearn.pipeline import Pipeline\n",
    "from sklearn.linear_model import LogisticRegression\n",
    "from sklearn.metrics import classification_report, confusion_matrix\n",
    "import seaborn as sns\n",
    "import matplotlib.pyplot as plt\n",
    "import joblib\n",
    "\n",
    "# Carrega os dados que geramos\n",
    "df = pd.read_csv('../data/customers.csv')\n",
    "\n",
    "df.info()\n",
    "df.head()"
   ]
  },
  {
   "cell_type": "code",
   "execution_count": 2,
   "id": "0859a81c",
   "metadata": {},
   "outputs": [
    {
     "name": "stdout",
     "output_type": "stream",
     "text": [
      "Formato de X_train: (4000, 6)\n",
      "Formato de X_test: (1000, 6)\n"
     ]
    }
   ],
   "source": [
    "from sklearn.model_selection import train_test_split\n",
    "\n",
    "# Define a variável alvo (y) e as features (X)\n",
    "target = 'Churn'\n",
    "features = [col for col in df.columns if col not in [target, 'CustomerID']]\n",
    "\n",
    "X = df[features]\n",
    "y = df[target]\n",
    "\n",
    "# Divide os dados em conjuntos de treino e teste\n",
    "# Usamos random_state para garantir que a divisão seja sempre a mesma (reprodutibilidade)\n",
    "X_train, X_test, y_train, y_test = train_test_split(X, y, test_size=0.2, random_state=42)\n",
    "\n",
    "print(\"Formato de X_train:\", X_train.shape)\n",
    "print(\"Formato de X_test:\", X_test.shape)"
   ]
  },
  {
   "cell_type": "code",
   "execution_count": 3,
   "id": "3be0ddd1",
   "metadata": {},
   "outputs": [
    {
     "name": "stdout",
     "output_type": "stream",
     "text": [
      "Iniciando o treinamento do pipeline...\n",
      "Treinamento concluído!\n",
      "Acurácia no conjunto de teste: 0.8930\n"
     ]
    },
    {
     "name": "stderr",
     "output_type": "stream",
     "text": [
      "/Users/pietro_medeiros/Downloads/Estudos_programacao/Rocket-Seat/churn-project/venv/lib/python3.9/site-packages/sklearn/linear_model/_linear_loss.py:200: RuntimeWarning: divide by zero encountered in matmul\n",
      "  raw_prediction = X @ weights + intercept\n",
      "/Users/pietro_medeiros/Downloads/Estudos_programacao/Rocket-Seat/churn-project/venv/lib/python3.9/site-packages/sklearn/linear_model/_linear_loss.py:200: RuntimeWarning: overflow encountered in matmul\n",
      "  raw_prediction = X @ weights + intercept\n",
      "/Users/pietro_medeiros/Downloads/Estudos_programacao/Rocket-Seat/churn-project/venv/lib/python3.9/site-packages/sklearn/linear_model/_linear_loss.py:200: RuntimeWarning: invalid value encountered in matmul\n",
      "  raw_prediction = X @ weights + intercept\n",
      "/Users/pietro_medeiros/Downloads/Estudos_programacao/Rocket-Seat/churn-project/venv/lib/python3.9/site-packages/sklearn/linear_model/_linear_loss.py:330: RuntimeWarning: divide by zero encountered in matmul\n",
      "  grad[:n_features] = X.T @ grad_pointwise + l2_reg_strength * weights\n",
      "/Users/pietro_medeiros/Downloads/Estudos_programacao/Rocket-Seat/churn-project/venv/lib/python3.9/site-packages/sklearn/linear_model/_linear_loss.py:330: RuntimeWarning: overflow encountered in matmul\n",
      "  grad[:n_features] = X.T @ grad_pointwise + l2_reg_strength * weights\n",
      "/Users/pietro_medeiros/Downloads/Estudos_programacao/Rocket-Seat/churn-project/venv/lib/python3.9/site-packages/sklearn/linear_model/_linear_loss.py:330: RuntimeWarning: invalid value encountered in matmul\n",
      "  grad[:n_features] = X.T @ grad_pointwise + l2_reg_strength * weights\n",
      "/Users/pietro_medeiros/Downloads/Estudos_programacao/Rocket-Seat/churn-project/venv/lib/python3.9/site-packages/sklearn/utils/extmath.py:203: RuntimeWarning: divide by zero encountered in matmul\n",
      "  ret = a @ b\n",
      "/Users/pietro_medeiros/Downloads/Estudos_programacao/Rocket-Seat/churn-project/venv/lib/python3.9/site-packages/sklearn/utils/extmath.py:203: RuntimeWarning: overflow encountered in matmul\n",
      "  ret = a @ b\n",
      "/Users/pietro_medeiros/Downloads/Estudos_programacao/Rocket-Seat/churn-project/venv/lib/python3.9/site-packages/sklearn/utils/extmath.py:203: RuntimeWarning: invalid value encountered in matmul\n",
      "  ret = a @ b\n"
     ]
    }
   ],
   "source": [
    "from sklearn.pipeline import Pipeline\n",
    "from sklearn.compose import ColumnTransformer\n",
    "from sklearn.preprocessing import StandardScaler, OneHotEncoder\n",
    "from sklearn.linear_model import LogisticRegression # Ou qualquer outro modelo, como RandomForestClassifier\n",
    "\n",
    "# Identifica as colunas numéricas e categóricas\n",
    "# Baseado no seu df.info(), 'ContractType' é categórica. As outras são numéricas.\n",
    "numeric_features = X_train.select_dtypes(include=['int64', 'float64']).columns\n",
    "categorical_features = X_train.select_dtypes(include=['object']).columns\n",
    "\n",
    "# Cria o transformador de pré-processamento\n",
    "# Ele aplica transformações diferentes para colunas diferentes\n",
    "preprocessor = ColumnTransformer(\n",
    "    transformers=[\n",
    "        ('num', StandardScaler(), numeric_features),\n",
    "        ('cat', OneHotEncoder(handle_unknown='ignore'), categorical_features)\n",
    "    ])\n",
    "\n",
    "# Cria o pipeline final que primeiro pré-processa os dados e depois treina o modelo\n",
    "# Usaremos Regressão Logística como exemplo\n",
    "pipeline = Pipeline(steps=[('preprocessor', preprocessor),\n",
    "                           ('classifier', LogisticRegression(random_state=42))])\n",
    "\n",
    "# Treina o pipeline completo com os dados de treino\n",
    "print(\"Iniciando o treinamento do pipeline...\")\n",
    "pipeline.fit(X_train, y_train)\n",
    "print(\"Treinamento concluído!\")\n",
    "\n",
    "# (Opcional) Avalia o modelo no conjunto de teste para ver a performance\n",
    "accuracy = pipeline.score(X_test, y_test)\n",
    "print(f\"Acurácia no conjunto de teste: {accuracy:.4f}\")"
   ]
  },
  {
   "cell_type": "code",
   "execution_count": 4,
   "id": "f8f67f6b",
   "metadata": {},
   "outputs": [
    {
     "name": "stdout",
     "output_type": "stream",
     "text": [
      "Salvando o modelo treinado em: ../src/churn_model.joblib\n",
      "Modelo salvo com sucesso!\n"
     ]
    }
   ],
   "source": [
    "import joblib\n",
    "import os\n",
    "\n",
    "# Define o caminho de destino para salvar o modelo\n",
    "# O caminho é '../src/' para sair da pasta 'notebooks' e entrar na 'src'\n",
    "output_dir = '../src'\n",
    "model_path = os.path.join(output_dir, 'churn_model.joblib')\n",
    "\n",
    "# Garante que o diretório de destino exista\n",
    "os.makedirs(output_dir, exist_ok=True)\n",
    "\n",
    "# Salva o objeto do pipeline no arquivo\n",
    "print(f\"Salvando o modelo treinado em: {model_path}\")\n",
    "joblib.dump(pipeline, model_path)\n",
    "print(\"Modelo salvo com sucesso!\")"
   ]
  }
 ],
 "metadata": {
  "kernelspec": {
   "display_name": "venv",
   "language": "python",
   "name": "python3"
  },
  "language_info": {
   "codemirror_mode": {
    "name": "ipython",
    "version": 3
   },
   "file_extension": ".py",
   "mimetype": "text/x-python",
   "name": "python",
   "nbconvert_exporter": "python",
   "pygments_lexer": "ipython3",
   "version": "3.9.6"
  }
 },
 "nbformat": 4,
 "nbformat_minor": 5
}
